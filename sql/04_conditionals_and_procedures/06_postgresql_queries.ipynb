{
 "cells": [
  {
   "cell_type": "markdown",
   "id": "2df4bbf0",
   "metadata": {},
   "source": [
    "# Connecting to PostgreSQL with Python\n",
    "\n",
    "This notebook demonstrates how to connect Python to a PostgreSQL database using the `psycopg2` library.\n",
    "\n",
    "It runs two queries:\n",
    "\n",
    "- Retrieves the first 5 customers whose first name starts with 'A', showing their full name and email.  \n",
    "- Counts how many films have the word 'Truman' in their title.\n",
    "\n",
    "You'll notice two ways of executing queries:\n",
    "\n",
    "- Using a multi-line string variable (`query = \"\"\" ... \"\"\"`) to store the SQL command before running it with `cursor.execute(query)`. This helps keep longer or more complex SQL statements neat and readable.\n",
    "- Using `cursor.execute()` directly with the SQL string, which is handy for shorter, simpler commands.\n",
    "\n",
    "<br>\n",
    "\n",
    "This is a simple example to get started working with databases in Python.\n",
    "\n"
   ]
  },
  {
   "cell_type": "code",
   "execution_count": 56,
   "id": "981c36cd",
   "metadata": {},
   "outputs": [],
   "source": [
    "import psycopg2 as pg2\n",
    "password = 'password'\n",
    "conn = pg2.connect(database='dvdrental', user='postgres', password=password)\n",
    "cursor = conn.cursor()\n"
   ]
  },
  {
   "cell_type": "code",
   "execution_count": 57,
   "id": "d80dde8b",
   "metadata": {},
   "outputs": [
    {
     "name": "stdout",
     "output_type": "stream",
     "text": [
      "Name: Aaron Selby, Email: aaron.selby@sakilacustomer.org\n",
      "Name: Adam Gooch, Email: adam.gooch@sakilacustomer.org\n",
      "Name: Adrian Clary, Email: adrian.clary@sakilacustomer.org\n",
      "Name: Agnes Bishop, Email: agnes.bishop@sakilacustomer.org\n",
      "Name: Alan Kahn, Email: alan.kahn@sakilacustomer.org\n"
     ]
    }
   ],
   "source": [
    "query = \"\"\"\n",
    "SELECT first_name, last_name, email\n",
    "FROM CUSTOMER\n",
    "WHERE first_name LIKE 'A%'\n",
    "ORDER BY first_name\n",
    "\"\"\"\n",
    "cursor.execute(query)\n",
    "data = cursor.fetchmany(5)\n",
    "\n",
    "for row in data:\n",
    "    print(f\"Name: {row[0]} {row[1]}, Email: {row[2]}\")\n"
   ]
  },
  {
   "cell_type": "code",
   "execution_count": 58,
   "id": "c5618bec",
   "metadata": {},
   "outputs": [
    {
     "name": "stdout",
     "output_type": "stream",
     "text": [
      "Number of films with 'Truman' in the title: 5\n"
     ]
    }
   ],
   "source": [
    "cursor.execute(\"SELECT COUNT(*) FROM film WHERE title LIKE '%Truman%'\")\n",
    "result = cursor.fetchone()\n",
    "\n",
    "print(f\"Number of films with 'Truman' in the title: {result[0]}\")\n",
    "\n",
    "cursor.close()\n",
    "conn.close()"
   ]
  }
 ],
 "metadata": {
  "kernelspec": {
   "display_name": "Python 3",
   "language": "python",
   "name": "python3"
  },
  "language_info": {
   "codemirror_mode": {
    "name": "ipython",
    "version": 3
   },
   "file_extension": ".py",
   "mimetype": "text/x-python",
   "name": "python",
   "nbconvert_exporter": "python",
   "pygments_lexer": "ipython3",
   "version": "3.13.4"
  }
 },
 "nbformat": 4,
 "nbformat_minor": 5
}
